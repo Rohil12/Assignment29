{
 "cells": [
  {
   "cell_type": "code",
   "execution_count": 1,
   "id": "c6b18ad2-4f80-4dfb-86ee-3901010a52e6",
   "metadata": {},
   "outputs": [],
   "source": [
    "#Q.1\n",
    "# Mean ,median , mode"
   ]
  },
  {
   "cell_type": "code",
   "execution_count": 2,
   "id": "fa0d9411-d2a0-4517-bd47-0f39e3b79f5b",
   "metadata": {},
   "outputs": [],
   "source": [
    "#Q.2\n",
    "# Mean calculates the total of variables / number of variables used when outliers are not present\n",
    "# Median sorts all the variables in ascending order and gets the middle value this is used when outliers are present\n",
    "# Mode calculates which variable has been most frequenlty repeated  "
   ]
  },
  {
   "cell_type": "code",
   "execution_count": 4,
   "id": "295588ec-7993-4452-b415-0447c7b8fca3",
   "metadata": {},
   "outputs": [],
   "source": [
    "#Q.3\n",
    "data = [178,177,176,177,178.2,178,175,179,180,175,178.9,176.2,177,172.5,178,176.5]\n",
    "import numpy as  np"
   ]
  },
  {
   "cell_type": "code",
   "execution_count": 5,
   "id": "4bd55d8b-20ed-48bd-a51c-5cd9d18e4384",
   "metadata": {},
   "outputs": [
    {
     "data": {
      "text/plain": [
       "np.float64(177.01875)"
      ]
     },
     "execution_count": 5,
     "metadata": {},
     "output_type": "execute_result"
    }
   ],
   "source": [
    "np.mean(data)"
   ]
  },
  {
   "cell_type": "code",
   "execution_count": 6,
   "id": "815d4296-4e29-49e8-8b86-557067a04ce8",
   "metadata": {},
   "outputs": [
    {
     "data": {
      "text/plain": [
       "np.float64(177.0)"
      ]
     },
     "execution_count": 6,
     "metadata": {},
     "output_type": "execute_result"
    }
   ],
   "source": [
    "np.median(data)"
   ]
  },
  {
   "cell_type": "code",
   "execution_count": 10,
   "id": "b405a186-1d7d-4318-ad60-d00393a84806",
   "metadata": {},
   "outputs": [
    {
     "data": {
      "text/plain": [
       "178"
      ]
     },
     "execution_count": 10,
     "metadata": {},
     "output_type": "execute_result"
    }
   ],
   "source": [
    "import statistics as st\n",
    "st.mode(data)"
   ]
  },
  {
   "cell_type": "code",
   "execution_count": 11,
   "id": "7ee7c793-3fe7-470a-a8ad-7228dffd3588",
   "metadata": {},
   "outputs": [],
   "source": [
    "#Q.4\n",
    "data2 = [178,177,176,177,178.2,178,175,179,180,175,178.9,176.2,177,172.5,178,176.5]"
   ]
  },
  {
   "cell_type": "code",
   "execution_count": 12,
   "id": "e364f920-ec5d-49c5-83dc-941946ab23aa",
   "metadata": {},
   "outputs": [
    {
     "data": {
      "text/plain": [
       "np.float64(1.7885814036548633)"
      ]
     },
     "execution_count": 12,
     "metadata": {},
     "output_type": "execute_result"
    }
   ],
   "source": [
    "np.std(data2)"
   ]
  },
  {
   "cell_type": "code",
   "execution_count": 13,
   "id": "3d45f6f6-0ab7-4412-9df4-0e2e69a603a1",
   "metadata": {},
   "outputs": [
    {
     "data": {
      "text/plain": [
       "'1. Range\\nThe range is the simplest measure of dispersion. It is the difference between the maximum and minimum values in a dataset.\\nFormula:\\nRange=Maximum\\xa0Value−Minimum\\xa0Value\\nExample:\\nConsider the dataset: [4, 8, 6, 5, 3, 7, 9]\\n\\nMaximum Value = 9\\nMinimum Value = 3\\nRange = 9 - 3 = 6\\n\\n2. Variance\\nVariance measures the average squared deviation of each number from the mean of the dataset. It gives an idea of how spread out the values are.\\nFormula:\\nVariance(σ2)=N∑(xi\\u200b−μ)2\\u200b\\nwhere ( x_i ) is each value, ( \\\\mu ) is the mean, and ( N ) is the number of values.\\nExample:\\nFor the dataset [4, 8, 6, 5, 3, 7, 9]:\\n\\nMean (( \\\\mu )) = (4 + 8 + 6 + 5 + 3 + 7 + 9) / 7 = 6\\nVariance = [(4-6)² + (8-6)² + (6-6)² + (5-6)² + (3-6)² + (7-6)² + (9-6)²] / 7\\n= [4 + 4 + 0 + 1 + 9 + 1 + 9] / 7\\n= 28 / 7\\n= 4\\n\\n3. Standard Deviation\\nStandard deviation is the square root of the variance. It provides a measure of the average distance of each value from the mean, in the same units as the data.\\nFormula:\\nStandard\\xa0Deviation(σ)=Variance\\u200b\\nExample:\\nUsing the variance calculated above (4):\\n\\nStandard Deviation = ( \\\\sqrt{4} = 2 )'"
      ]
     },
     "execution_count": 13,
     "metadata": {},
     "output_type": "execute_result"
    }
   ],
   "source": [
    "#Q.5\n",
    "# Range gives a quick sense of the spread by looking at the extremes.\n",
    "# Variance provides a measure of how much the values deviate from the mean, squared.\n",
    "# Standard Deviation offers a more intuitive measure of spread, in the same units as the data.\n",
    "# These measures help in understanding the variability and consistency of the data. For instance, a low standard deviation indicates that the data points tend to be close to the mean, while a high standard deviation indicates that the data points are spread out over a wider range of values.\n",
    "\n",
    "\"\"\"1. Range\n",
    "The range is the simplest measure of dispersion. It is the difference between the maximum and minimum values in a dataset.\n",
    "Formula:\n",
    "Range=Maximum Value−Minimum Value\n",
    "Example:\n",
    "Consider the dataset: [4, 8, 6, 5, 3, 7, 9]\n",
    "\n",
    "Maximum Value = 9\n",
    "Minimum Value = 3\n",
    "Range = 9 - 3 = 6\n",
    "\n",
    "2. Variance\n",
    "Variance measures the average squared deviation of each number from the mean of the dataset. It gives an idea of how spread out the values are.\n",
    "Formula:\n",
    "Variance(σ2)=N∑(xi​−μ)2​\n",
    "where ( x_i ) is each value, ( \\mu ) is the mean, and ( N ) is the number of values.\n",
    "Example:\n",
    "For the dataset [4, 8, 6, 5, 3, 7, 9]:\n",
    "\n",
    "Mean (( \\mu )) = (4 + 8 + 6 + 5 + 3 + 7 + 9) / 7 = 6\n",
    "Variance = [(4-6)² + (8-6)² + (6-6)² + (5-6)² + (3-6)² + (7-6)² + (9-6)²] / 7\n",
    "= [4 + 4 + 0 + 1 + 9 + 1 + 9] / 7\n",
    "= 28 / 7\n",
    "= 4\n",
    "\n",
    "3. Standard Deviation\n",
    "Standard deviation is the square root of the variance. It provides a measure of the average distance of each value from the mean, in the same units as the data.\n",
    "Formula:\n",
    "Standard Deviation(σ)=Variance​\n",
    "Example:\n",
    "Using the variance calculated above (4):\n",
    "\n",
    "Standard Deviation = ( \\sqrt{4} = 2 )\"\"\""
   ]
  },
  {
   "cell_type": "code",
   "execution_count": 14,
   "id": "669d37f5-d46d-4ccc-bb31-224445262f5c",
   "metadata": {},
   "outputs": [
    {
     "data": {
      "text/plain": [
       "'A Venn diagram is a visual tool used to illustrate the logical relationships between different sets. It consists of overlapping circles, where each circle represents a set. The areas where the circles overlap show the elements that are common to the sets, while the non-overlapping areas show the elements that are unique to each set.'"
      ]
     },
     "execution_count": 14,
     "metadata": {},
     "output_type": "execute_result"
    }
   ],
   "source": [
    "# Q.6\n",
    "\"\"\"A Venn diagram is a visual tool used to illustrate the logical relationships between different sets. It consists of overlapping circles, where each circle represents a set. The areas where the circles overlap show the elements that are common to the sets, while the non-overlapping areas show the elements that are unique to each set.\"\"\""
   ]
  },
  {
   "cell_type": "code",
   "execution_count": 15,
   "id": "2db60dff-65aa-4e91-ac84-b46ba22c9753",
   "metadata": {},
   "outputs": [],
   "source": [
    "#Q.7\n",
    "# (i) Intersection (( A \\cap B ))\n",
    "#The intersection of two sets includes all elements that are common to both sets.\n",
    "\n",
    "#Calculation:\n",
    "\n",
    "#Common elements between ( A ) and ( B ): ( {2, 6} )\n",
    "#So, ( A \\cap B = {2, 6} )\n",
    "\n",
    "#(ii) Union (( A \\cup B ))\n",
    "#The union of two sets includes all elements that are in either set or both.\n",
    "\n",
    "#Calculation:\n",
    "\n",
    "#All unique elements from both sets: ( {0, 2, 3, 4, 5, 6, 7, 8, 10} )\n",
    "#So, ( A \\cup B = {0, 2, 3, 4, 5, 6, 7, 8, 10} )"
   ]
  },
  {
   "cell_type": "code",
   "execution_count": 16,
   "id": "0af88d62-b82c-4b26-8ae2-9849a3882573",
   "metadata": {},
   "outputs": [
    {
     "data": {
      "text/plain": [
       "'Skewness is a statistical measure that describes the asymmetry of a dataset’s distribution around its mean. It indicates whether the data points are skewed to the left (negative skew) or to the right (positive skew) relative to the mean.'"
      ]
     },
     "execution_count": 16,
     "metadata": {},
     "output_type": "execute_result"
    }
   ],
   "source": [
    "#Q.8\n",
    "\"\"\"Skewness is a statistical measure that describes the asymmetry of a dataset’s distribution around its mean. It indicates whether the data points are skewed to the left (negative skew) or to the right (positive skew) relative to the mean.\"\"\""
   ]
  },
  {
   "cell_type": "code",
   "execution_count": 17,
   "id": "3e35dd8f-ae5d-48f9-9393-ed1203975028",
   "metadata": {},
   "outputs": [],
   "source": [
    "#Q.9\n",
    "#the distribution pulls the mean to the right, while the median remains closer to the center of the data.\n",
    "#Right-Skewed Distribution: Mean > Median"
   ]
  },
  {
   "cell_type": "code",
   "execution_count": 20,
   "id": "f4aac0f4-4518-4936-be35-f9bd103990f2",
   "metadata": {},
   "outputs": [
    {
     "data": {
      "text/plain": [
       "'Covariance\\nCovariance tells us how two variables change together. If they increase together, covariance is positive. If one increases while the other decreases, it’s negative.\\n\\nSteps to Measure Covariance:\\n\\nFind the mean (average) of each variable.\\nSubtract the mean from each data point to get deviations.\\nMultiply the deviations of the two variables for each data point.\\nSum these products.\\nDivide by the number of data points.\\n\\nCorrelation\\nCorrelation standardizes covariance, making it easier to interpret. It tells us how strong the relationship is between two variables and whether it’s positive or negative.\\n\\nSteps to Measure Correlation:\\n\\nCalculate the covariance of the two variables.\\nFind the standard deviation of each variable.\\nDivide the covariance by the product of the standard deviations.'"
      ]
     },
     "execution_count": 20,
     "metadata": {},
     "output_type": "execute_result"
    }
   ],
   "source": [
    "#.10\n",
    "# Covariance: Used to determine the direction of the relationship between variables. It is often a preliminary step before calculating correlation.\n",
    "# Correlation: Used to quantify the strength and direction of the relationship between variables. It is widely used in regression analysis, financial analysis, and various fields of research to identify and measure relationships.\n",
    "\"\"\"Covariance\n",
    "Covariance tells us how two variables change together. If they increase together, covariance is positive. If one increases while the other decreases, it’s negative.\n",
    "\n",
    "Steps to Measure Covariance:\n",
    "\n",
    "Find the mean (average) of each variable.\n",
    "Subtract the mean from each data point to get deviations.\n",
    "Multiply the deviations of the two variables for each data point.\n",
    "Sum these products.\n",
    "Divide by the number of data points.\n",
    "\n",
    "Correlation\n",
    "Correlation standardizes covariance, making it easier to interpret. It tells us how strong the relationship is between two variables and whether it’s positive or negative.\n",
    "\n",
    "Steps to Measure Correlation:\n",
    "\n",
    "Calculate the covariance of the two variables.\n",
    "Find the standard deviation of each variable.\n",
    "Divide the covariance by the product of the standard deviations.\"\"\"\n"
   ]
  },
  {
   "cell_type": "code",
   "execution_count": 21,
   "id": "0c5c5613-f6ee-486d-b738-efc69f57aab4",
   "metadata": {},
   "outputs": [
    {
     "data": {
      "text/plain": [
       "'In a normal distribution, the measures of central tendency—mean, median, and mode—are all equal and located at the center of the distribution. This is a key characteristic of a normal distribution, which is symmetrical around its center.'"
      ]
     },
     "execution_count": 21,
     "metadata": {},
     "output_type": "execute_result"
    }
   ],
   "source": [
    "#Q.11\n",
    "\"\"\"In a normal distribution, the measures of central tendency—mean, median, and mode—are all equal and located at the center of the distribution. This is a key characteristic of a normal distribution, which is symmetrical around its center.\"\"\""
   ]
  },
  {
   "cell_type": "code",
   "execution_count": 22,
   "id": "23828d36-7da7-4a99-8257-5d51b22ea142",
   "metadata": {},
   "outputs": [
    {
     "data": {
      "text/plain": [
       "'Covariance: Measures the direction of the relationship and is sensitive to the scale of the variables.\\nCorrelation: Measures both the strength and direction of the relationship and is standardized, making it easier to interpret and compare.'"
      ]
     },
     "execution_count": 22,
     "metadata": {},
     "output_type": "execute_result"
    }
   ],
   "source": [
    "#Q.13\n",
    "\"\"\"Covariance: Measures the direction of the relationship and is sensitive to the scale of the variables.\n",
    "Correlation: Measures both the strength and direction of the relationship and is standardized, making it easier to interpret and compare.\"\"\"\n"
   ]
  },
  {
   "cell_type": "code",
   "execution_count": 23,
   "id": "4edddd51-3965-494c-8734-01e3ccf947a7",
   "metadata": {},
   "outputs": [
    {
     "data": {
      "text/plain": [
       "'Outliers can significantly impact measures of central tendency (mean, median, mode) and measures of dispersion (range, variance, standard deviation). Here’s how:\\n\\nMeasures of Central Tendency\\nMean: Outliers can pull the mean towards their extreme values. For example, a high outlier will increase the mean, while a low outlier will decrease it.\\nMedian: The median is less affected by outliers because it is the middle value. However, if the dataset is small, an outlier can still shift the median.\\nMode: The mode is the most frequent value and is generally not affected by outliers unless the outlier occurs frequently.\\nMeasures of Dispersion\\nRange: Outliers can significantly increase the range since it is the difference between the maximum and minimum values.\\nVariance and Standard Deviation: Outliers increase both variance and standard deviation because they increase the average squared deviation from the mean.\\nExample\\nConsider the dataset: [10, 12, 14, 15, 16, 18, 100]\\n\\nWithout Outlier (100):\\nMean: ( \\x0crac{10 + 12 + 14 + 15 + 16 + 18}{6} = 14.17 )\\nMedian: 14.5\\nMode: None (no repeating values)\\nRange: 18 - 10 = 8\\nVariance: 8.97\\nStandard Deviation: 2.99\\nWith Outlier (100):\\nMean: ( \\x0crac{10 + 12 + 14 + 15 + 16 + 18 + 100}{7} = 26.43 )\\nMedian: 15\\nMode: None (no repeating values)\\nRange: 100 - 10 = 90\\nVariance: 1029.24\\nStandard Deviation: 32.09\\nSummary\\nMean: Increased from 14.17 to 26.43\\nMedian: Slightly increased from 14.5 to 15\\nRange: Increased from 8 to 90\\nVariance: Increased from 8.97 to 1029.24\\nStandard Deviation: Increased from 2.99 to 32.09'"
      ]
     },
     "execution_count": 23,
     "metadata": {},
     "output_type": "execute_result"
    }
   ],
   "source": [
    "#Q.14\n",
    "\"\"\"Outliers can significantly impact measures of central tendency (mean, median, mode) and measures of dispersion (range, variance, standard deviation). Here’s how:\n",
    "\n",
    "Measures of Central Tendency\n",
    "Mean: Outliers can pull the mean towards their extreme values. For example, a high outlier will increase the mean, while a low outlier will decrease it.\n",
    "Median: The median is less affected by outliers because it is the middle value. However, if the dataset is small, an outlier can still shift the median.\n",
    "Mode: The mode is the most frequent value and is generally not affected by outliers unless the outlier occurs frequently.\n",
    "Measures of Dispersion\n",
    "Range: Outliers can significantly increase the range since it is the difference between the maximum and minimum values.\n",
    "Variance and Standard Deviation: Outliers increase both variance and standard deviation because they increase the average squared deviation from the mean.\n",
    "Example\n",
    "Consider the dataset: [10, 12, 14, 15, 16, 18, 100]\n",
    "\n",
    "Without Outlier (100):\n",
    "Mean: ( \\frac{10 + 12 + 14 + 15 + 16 + 18}{6} = 14.17 )\n",
    "Median: 14.5\n",
    "Mode: None (no repeating values)\n",
    "Range: 18 - 10 = 8\n",
    "Variance: 8.97\n",
    "Standard Deviation: 2.99\n",
    "With Outlier (100):\n",
    "Mean: ( \\frac{10 + 12 + 14 + 15 + 16 + 18 + 100}{7} = 26.43 )\n",
    "Median: 15\n",
    "Mode: None (no repeating values)\n",
    "Range: 100 - 10 = 90\n",
    "Variance: 1029.24\n",
    "Standard Deviation: 32.09\n",
    "Summary\n",
    "Mean: Increased from 14.17 to 26.43\n",
    "Median: Slightly increased from 14.5 to 15\n",
    "Range: Increased from 8 to 90\n",
    "Variance: Increased from 8.97 to 1029.24\n",
    "Standard Deviation: Increased from 2.99 to 32.09\"\"\""
   ]
  },
  {
   "cell_type": "code",
   "execution_count": null,
   "id": "0a5f4d43-1456-4caf-ae5b-bffeb8b49236",
   "metadata": {},
   "outputs": [],
   "source": []
  }
 ],
 "metadata": {
  "kernelspec": {
   "display_name": "Python 3 (ipykernel)",
   "language": "python",
   "name": "python3"
  },
  "language_info": {
   "codemirror_mode": {
    "name": "ipython",
    "version": 3
   },
   "file_extension": ".py",
   "mimetype": "text/x-python",
   "name": "python",
   "nbconvert_exporter": "python",
   "pygments_lexer": "ipython3",
   "version": "3.11.3"
  }
 },
 "nbformat": 4,
 "nbformat_minor": 5
}
